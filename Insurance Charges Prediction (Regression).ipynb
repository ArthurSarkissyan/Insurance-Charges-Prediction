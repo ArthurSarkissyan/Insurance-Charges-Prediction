{
 "cells": [
  {
   "cell_type": "markdown",
   "id": "ef09dc8f",
   "metadata": {},
   "source": [
    "# Charges Prediction (Regression Analysis)"
   ]
  },
  {
   "cell_type": "markdown",
   "id": "21fab67b",
   "metadata": {},
   "source": [
    "Here we will try to create a model that will predict medical insurance costs.  The dataset we will be using comes from https://www.kaggle.com/datasets/mirichoi0218/insurance."
   ]
  },
  {
   "cell_type": "code",
   "execution_count": 1,
   "id": "ac175663",
   "metadata": {},
   "outputs": [],
   "source": [
    "import numpy as np\n",
    "import pandas as pd\n",
    "import seaborn as sns\n",
    "import matplotlib.pyplot as plt\n",
    "from sklearn.model_selection import train_test_split\n",
    "from sklearn.linear_model import LinearRegression\n",
    "from sklearn.metrics import r2_score,mean_absolute_percentage_error\n",
    "from sklearn.preprocessing import StandardScaler\n",
    "from sklearn.ensemble import RandomForestRegressor\n",
    "from sklearn.model_selection import cross_validate\n",
    "from sklearn.linear_model import Ridge, Lasso, ElasticNet\n",
    "from sklearn.model_selection import GridSearchCV"
   ]
  },
  {
   "cell_type": "code",
   "execution_count": 2,
   "id": "fadfb451",
   "metadata": {},
   "outputs": [],
   "source": [
    "import warnings\n",
    "warnings.filterwarnings('ignore')"
   ]
  },
  {
   "cell_type": "markdown",
   "id": "3e41ca7f",
   "metadata": {},
   "source": [
    "## Data Exploration and Preprocessing"
   ]
  },
  {
   "cell_type": "code",
   "execution_count": 3,
   "id": "bab2a754",
   "metadata": {},
   "outputs": [],
   "source": [
    "data = pd.read_csv(\"insurance.csv\")"
   ]
  },
  {
   "cell_type": "code",
   "execution_count": 4,
   "id": "03b89b71",
   "metadata": {},
   "outputs": [
    {
     "data": {
      "text/html": [
       "<div>\n",
       "<style scoped>\n",
       "    .dataframe tbody tr th:only-of-type {\n",
       "        vertical-align: middle;\n",
       "    }\n",
       "\n",
       "    .dataframe tbody tr th {\n",
       "        vertical-align: top;\n",
       "    }\n",
       "\n",
       "    .dataframe thead th {\n",
       "        text-align: right;\n",
       "    }\n",
       "</style>\n",
       "<table border=\"1\" class=\"dataframe\">\n",
       "  <thead>\n",
       "    <tr style=\"text-align: right;\">\n",
       "      <th></th>\n",
       "      <th>age</th>\n",
       "      <th>sex</th>\n",
       "      <th>bmi</th>\n",
       "      <th>children</th>\n",
       "      <th>smoker</th>\n",
       "      <th>region</th>\n",
       "      <th>charges</th>\n",
       "    </tr>\n",
       "  </thead>\n",
       "  <tbody>\n",
       "    <tr>\n",
       "      <th>0</th>\n",
       "      <td>19</td>\n",
       "      <td>female</td>\n",
       "      <td>27.900</td>\n",
       "      <td>0</td>\n",
       "      <td>yes</td>\n",
       "      <td>southwest</td>\n",
       "      <td>16884.92400</td>\n",
       "    </tr>\n",
       "    <tr>\n",
       "      <th>1</th>\n",
       "      <td>18</td>\n",
       "      <td>male</td>\n",
       "      <td>33.770</td>\n",
       "      <td>1</td>\n",
       "      <td>no</td>\n",
       "      <td>southeast</td>\n",
       "      <td>1725.55230</td>\n",
       "    </tr>\n",
       "    <tr>\n",
       "      <th>2</th>\n",
       "      <td>28</td>\n",
       "      <td>male</td>\n",
       "      <td>33.000</td>\n",
       "      <td>3</td>\n",
       "      <td>no</td>\n",
       "      <td>southeast</td>\n",
       "      <td>4449.46200</td>\n",
       "    </tr>\n",
       "    <tr>\n",
       "      <th>3</th>\n",
       "      <td>33</td>\n",
       "      <td>male</td>\n",
       "      <td>22.705</td>\n",
       "      <td>0</td>\n",
       "      <td>no</td>\n",
       "      <td>northwest</td>\n",
       "      <td>21984.47061</td>\n",
       "    </tr>\n",
       "    <tr>\n",
       "      <th>4</th>\n",
       "      <td>32</td>\n",
       "      <td>male</td>\n",
       "      <td>28.880</td>\n",
       "      <td>0</td>\n",
       "      <td>no</td>\n",
       "      <td>northwest</td>\n",
       "      <td>3866.85520</td>\n",
       "    </tr>\n",
       "  </tbody>\n",
       "</table>\n",
       "</div>"
      ],
      "text/plain": [
       "   age     sex     bmi  children smoker     region      charges\n",
       "0   19  female  27.900         0    yes  southwest  16884.92400\n",
       "1   18    male  33.770         1     no  southeast   1725.55230\n",
       "2   28    male  33.000         3     no  southeast   4449.46200\n",
       "3   33    male  22.705         0     no  northwest  21984.47061\n",
       "4   32    male  28.880         0     no  northwest   3866.85520"
      ]
     },
     "execution_count": 4,
     "metadata": {},
     "output_type": "execute_result"
    }
   ],
   "source": [
    "data.head()"
   ]
  },
  {
   "cell_type": "code",
   "execution_count": 5,
   "id": "4bdd6fe1",
   "metadata": {},
   "outputs": [
    {
     "name": "stdout",
     "output_type": "stream",
     "text": [
      "<class 'pandas.core.frame.DataFrame'>\n",
      "RangeIndex: 1338 entries, 0 to 1337\n",
      "Data columns (total 7 columns):\n",
      " #   Column    Non-Null Count  Dtype  \n",
      "---  ------    --------------  -----  \n",
      " 0   age       1338 non-null   int64  \n",
      " 1   sex       1338 non-null   object \n",
      " 2   bmi       1338 non-null   float64\n",
      " 3   children  1338 non-null   int64  \n",
      " 4   smoker    1338 non-null   object \n",
      " 5   region    1338 non-null   object \n",
      " 6   charges   1338 non-null   float64\n",
      "dtypes: float64(2), int64(2), object(3)\n",
      "memory usage: 73.3+ KB\n"
     ]
    }
   ],
   "source": [
    "data.info()"
   ]
  },
  {
   "cell_type": "markdown",
   "id": "019f7c63",
   "metadata": {},
   "source": [
    "Here we can see that we have both numerical and categorical variables.  Our goal will be to predict \"charges\".  First we will test the correlation beween the numerical variables.  To view this in a visually appealing way, we will use a heat map."
   ]
  },
  {
   "cell_type": "code",
   "execution_count": 6,
   "id": "f85ddf31",
   "metadata": {},
   "outputs": [
    {
     "data": {
      "text/plain": [
       "<AxesSubplot:>"
      ]
     },
     "execution_count": 6,
     "metadata": {},
     "output_type": "execute_result"
    },
    {
     "data": {
      "image/png": "[encoded data removed]",
      "text/plain": [
       "<Figure size 432x288 with 2 Axes>"
      ]
     },
     "metadata": {
      "needs_background": "light"
     },
     "output_type": "display_data"
    }
   ],
   "source": [
    "sns.heatmap(data.corr(),annot=True,cmap=\"plasma\")"
   ]
  },
  {
   "cell_type": "markdown",
   "id": "af8fe685",
   "metadata": {},
   "source": [
    "As we can see, all of the correlations are well below 0.8, so we do not have any multicollinearity.  If we did have multicollinearity we would address this using the variance inflation factor as a means of detection.  Next we will look at the distribution of our numerical features."
   ]
  },
  {
   "cell_type": "code",
   "execution_count": 7,
   "id": "d703f8fe",
   "metadata": {},
   "outputs": [
    {
     "data": {
      "image/png": "[encoded data removed]",
      "text/plain": [
       "<Figure size 360x360 with 1 Axes>"
      ]
     },
     "metadata": {
      "needs_background": "light"
     },
     "output_type": "display_data"
    },
    {
     "data": {
      "image/png": "[encoded data removed]",
      "text/plain": [
       "<Figure size 360x360 with 1 Axes>"
      ]
     },
     "metadata": {
      "needs_background": "light"
     },
     "output_type": "display_data"
    },
    {
     "data": {
      "image/png": "[encoded data removed]",
      "text/plain": [
       "<Figure size 360x360 with 1 Axes>"
      ]
     },
     "metadata": {
      "needs_background": "light"
     },
     "output_type": "display_data"
    },
    {
     "data": {
      "image/png": "[encoded data removed]",
      "text/plain": [
       "<Figure size 360x360 with 1 Axes>"
      ]
     },
     "metadata": {
      "needs_background": "light"
     },
     "output_type": "display_data"
    }
   ],
   "source": [
    "for i in data.columns:\n",
    "    if data[i].dtype!=object:\n",
    "        sns.displot(data[i])\n",
    "        plt.title(f\"{i} mean: {round(data[i].mean(),4)}\")\n",
    "        plt.show()"
   ]
  },
  {
   "cell_type": "code",
   "execution_count": 8,
   "id": "c3ce85e6",
   "metadata": {},
   "outputs": [],
   "source": [
    "def boxplot(data, data_columns):\n",
    "    for i in data_columns:\n",
    "        if data[i].dtype!=object:\n",
    "            sns.boxplot(data[i])\n",
    "            plt.title(i)\n",
    "            plt.show()"
   ]
  },
  {
   "cell_type": "code",
   "execution_count": 9,
   "id": "6b336b95",
   "metadata": {},
   "outputs": [
    {
     "data": {
      "image/png": "[encoded data removed]",
      "text/plain": [
       "<Figure size 432x288 with 1 Axes>"
      ]
     },
     "metadata": {
      "needs_background": "light"
     },
     "output_type": "display_data"
    },
    {
     "data": {
      "image/png": "[encoded data removed]",
      "text/plain": [
       "<Figure size 432x288 with 1 Axes>"
      ]
     },
     "metadata": {
      "needs_background": "light"
     },
     "output_type": "display_data"
    },
    {
     "data": {
      "image/png": "[encoded data removed]",
      "text/plain": [
       "<Figure size 432x288 with 1 Axes>"
      ]
     },
     "metadata": {
      "needs_background": "light"
     },
     "output_type": "display_data"
    },
    {
     "data": {
      "image/png": "[encoded data removed]",
      "text/plain": [
       "<Figure size 432x288 with 1 Axes>"
      ]
     },
     "metadata": {
      "needs_background": "light"
     },
     "output_type": "display_data"
    }
   ],
   "source": [
    "boxplot(data, data.columns)"
   ]
  },
  {
   "cell_type": "markdown",
   "id": "4d04841a",
   "metadata": {},
   "source": [
    "As we can see, the BMI feature has a few outliers on the higher end.  We will deal with this by removing those that are 3 standard deviations above the mean."
   ]
  },
  {
   "cell_type": "code",
   "execution_count": 10,
   "id": "99267531",
   "metadata": {},
   "outputs": [],
   "source": [
    "bmi_mean=data.bmi.mean()\n",
    "bmi_std=data.bmi.std()\n",
    "bmi_indexes=[]\n",
    "\n",
    "for index,value in enumerate(data.bmi):\n",
    "    z=(value-bmi_mean)/bmi_std\n",
    "    if abs(z)>3:\n",
    "        bmi_indexes.append(index)"
   ]
  },
  {
   "cell_type": "code",
   "execution_count": 11,
   "id": "5aef0111",
   "metadata": {},
   "outputs": [
    {
     "data": {
      "text/plain": [
       "[116, 847, 1047, 1317]"
      ]
     },
     "execution_count": 11,
     "metadata": {},
     "output_type": "execute_result"
    }
   ],
   "source": [
    "bmi_indexes"
   ]
  },
  {
   "cell_type": "code",
   "execution_count": 12,
   "id": "3dd27059",
   "metadata": {},
   "outputs": [],
   "source": [
    "data_clean=data.drop(bmi_indexes,axis=0)"
   ]
  },
  {
   "cell_type": "code",
   "execution_count": 13,
   "id": "9eec5d1f",
   "metadata": {},
   "outputs": [
    {
     "data": {
      "image/png": "[encoded data removed]",
      "text/plain": [
       "<Figure size 432x288 with 1 Axes>"
      ]
     },
     "metadata": {
      "needs_background": "light"
     },
     "output_type": "display_data"
    }
   ],
   "source": [
    "boxplot(data_clean, [\"bmi\"])"
   ]
  },
  {
   "cell_type": "markdown",
   "id": "4296c472",
   "metadata": {},
   "source": [
    "There are still some outliers for the BMI, so we will remove those that are above the upper limit (those above Q3+1.5 IQR)."
   ]
  },
  {
   "cell_type": "code",
   "execution_count": 14,
   "id": "d9657ec8",
   "metadata": {},
   "outputs": [],
   "source": [
    "upper_limit=data_clean.bmi.quantile(0.75)+(data_clean.bmi.quantile(0.75)-data_clean.bmi.quantile(0.25))*1.5"
   ]
  },
  {
   "cell_type": "code",
   "execution_count": 15,
   "id": "f9892391",
   "metadata": {},
   "outputs": [
    {
     "data": {
      "text/plain": [
       "47.13125"
      ]
     },
     "execution_count": 15,
     "metadata": {},
     "output_type": "execute_result"
    }
   ],
   "source": [
    "upper_limit"
   ]
  },
  {
   "cell_type": "markdown",
   "id": "5a59ce2f",
   "metadata": {},
   "source": [
    "In this case the upper limit is a BMI of 47.13, so we will remove those that are greater."
   ]
  },
  {
   "cell_type": "code",
   "execution_count": 16,
   "id": "527e422b",
   "metadata": {},
   "outputs": [],
   "source": [
    "indexes_upper=data_clean.loc[data_clean.bmi>upper_limit].index"
   ]
  },
  {
   "cell_type": "code",
   "execution_count": 17,
   "id": "3acbbd99",
   "metadata": {},
   "outputs": [
    {
     "data": {
      "text/plain": [
       "Int64Index([286, 401, 543, 860, 1088], dtype='int64')"
      ]
     },
     "execution_count": 17,
     "metadata": {},
     "output_type": "execute_result"
    }
   ],
   "source": [
    "indexes_upper"
   ]
  },
  {
   "cell_type": "code",
   "execution_count": 18,
   "id": "655ba03a",
   "metadata": {},
   "outputs": [],
   "source": [
    "data_clean=data_clean.drop(indexes_upper, axis=0)"
   ]
  },
  {
   "cell_type": "code",
   "execution_count": 19,
   "id": "30a0bdc1",
   "metadata": {},
   "outputs": [
    {
     "data": {
      "image/png": "[encoded data removed]",
      "text/plain": [
       "<Figure size 432x288 with 1 Axes>"
      ]
     },
     "metadata": {
      "needs_background": "light"
     },
     "output_type": "display_data"
    }
   ],
   "source": [
    "boxplot(data_clean, [\"bmi\"])"
   ]
  },
  {
   "cell_type": "markdown",
   "id": "3e7660cc",
   "metadata": {},
   "source": [
    "Now that the numerical features are cleaned, we can take a look at the distribution of the categorical features."
   ]
  },
  {
   "cell_type": "code",
   "execution_count": 20,
   "id": "c4c81737",
   "metadata": {},
   "outputs": [],
   "source": [
    "cat=[\"sex\", \"smoker\", \"region\"]"
   ]
  },
  {
   "cell_type": "code",
   "execution_count": 21,
   "id": "06a9097b",
   "metadata": {},
   "outputs": [
    {
     "data": {
      "image/png": "[encoded data removed]",
      "text/plain": [
       "<Figure size 432x288 with 1 Axes>"
      ]
     },
     "metadata": {
      "needs_background": "light"
     },
     "output_type": "display_data"
    },
    {
     "data": {
      "image/png": "[encoded data removed]",
      "text/plain": [
       "<Figure size 432x288 with 1 Axes>"
      ]
     },
     "metadata": {
      "needs_background": "light"
     },
     "output_type": "display_data"
    },
    {
     "data": {
      "image/png": "[encoded data removed]",
      "text/plain": [
       "<Figure size 432x288 with 1 Axes>"
      ]
     },
     "metadata": {
      "needs_background": "light"
     },
     "output_type": "display_data"
    }
   ],
   "source": [
    "for i in cat:\n",
    "    data_clean[i].hist(grid=False)\n",
    "    plt.title(i)\n",
    "    plt.show()"
   ]
  },
  {
   "cell_type": "markdown",
   "id": "b1dfe3f7",
   "metadata": {},
   "source": [
    "Prior to creating our regression model, the inputs need to be in numerical format.  In our case, we can use pd.get_dummies() to encode our categorical variables."
   ]
  },
  {
   "cell_type": "code",
   "execution_count": 22,
   "id": "16193657",
   "metadata": {},
   "outputs": [],
   "source": [
    "data_encoded=pd.get_dummies(data_clean)"
   ]
  },
  {
   "cell_type": "code",
   "execution_count": 23,
   "id": "a01a86c4",
   "metadata": {},
   "outputs": [
    {
     "data": {
      "text/html": [
       "<div>\n",
       "<style scoped>\n",
       "    .dataframe tbody tr th:only-of-type {\n",
       "        vertical-align: middle;\n",
       "    }\n",
       "\n",
       "    .dataframe tbody tr th {\n",
       "        vertical-align: top;\n",
       "    }\n",
       "\n",
       "    .dataframe thead th {\n",
       "        text-align: right;\n",
       "    }\n",
       "</style>\n",
       "<table border=\"1\" class=\"dataframe\">\n",
       "  <thead>\n",
       "    <tr style=\"text-align: right;\">\n",
       "      <th></th>\n",
       "      <th>age</th>\n",
       "      <th>bmi</th>\n",
       "      <th>children</th>\n",
       "      <th>charges</th>\n",
       "      <th>sex_female</th>\n",
       "      <th>sex_male</th>\n",
       "      <th>smoker_no</th>\n",
       "      <th>smoker_yes</th>\n",
       "      <th>region_northeast</th>\n",
       "      <th>region_northwest</th>\n",
       "      <th>region_southeast</th>\n",
       "      <th>region_southwest</th>\n",
       "    </tr>\n",
       "  </thead>\n",
       "  <tbody>\n",
       "    <tr>\n",
       "      <th>0</th>\n",
       "      <td>19</td>\n",
       "      <td>27.900</td>\n",
       "      <td>0</td>\n",
       "      <td>16884.92400</td>\n",
       "      <td>1</td>\n",
       "      <td>0</td>\n",
       "      <td>0</td>\n",
       "      <td>1</td>\n",
       "      <td>0</td>\n",
       "      <td>0</td>\n",
       "      <td>0</td>\n",
       "      <td>1</td>\n",
       "    </tr>\n",
       "    <tr>\n",
       "      <th>1</th>\n",
       "      <td>18</td>\n",
       "      <td>33.770</td>\n",
       "      <td>1</td>\n",
       "      <td>1725.55230</td>\n",
       "      <td>0</td>\n",
       "      <td>1</td>\n",
       "      <td>1</td>\n",
       "      <td>0</td>\n",
       "      <td>0</td>\n",
       "      <td>0</td>\n",
       "      <td>1</td>\n",
       "      <td>0</td>\n",
       "    </tr>\n",
       "    <tr>\n",
       "      <th>2</th>\n",
       "      <td>28</td>\n",
       "      <td>33.000</td>\n",
       "      <td>3</td>\n",
       "      <td>4449.46200</td>\n",
       "      <td>0</td>\n",
       "      <td>1</td>\n",
       "      <td>1</td>\n",
       "      <td>0</td>\n",
       "      <td>0</td>\n",
       "      <td>0</td>\n",
       "      <td>1</td>\n",
       "      <td>0</td>\n",
       "    </tr>\n",
       "    <tr>\n",
       "      <th>3</th>\n",
       "      <td>33</td>\n",
       "      <td>22.705</td>\n",
       "      <td>0</td>\n",
       "      <td>21984.47061</td>\n",
       "      <td>0</td>\n",
       "      <td>1</td>\n",
       "      <td>1</td>\n",
       "      <td>0</td>\n",
       "      <td>0</td>\n",
       "      <td>1</td>\n",
       "      <td>0</td>\n",
       "      <td>0</td>\n",
       "    </tr>\n",
       "    <tr>\n",
       "      <th>4</th>\n",
       "      <td>32</td>\n",
       "      <td>28.880</td>\n",
       "      <td>0</td>\n",
       "      <td>3866.85520</td>\n",
       "      <td>0</td>\n",
       "      <td>1</td>\n",
       "      <td>1</td>\n",
       "      <td>0</td>\n",
       "      <td>0</td>\n",
       "      <td>1</td>\n",
       "      <td>0</td>\n",
       "      <td>0</td>\n",
       "    </tr>\n",
       "  </tbody>\n",
       "</table>\n",
       "</div>"
      ],
      "text/plain": [
       "   age     bmi  children      charges  sex_female  sex_male  smoker_no  \\\n",
       "0   19  27.900         0  16884.92400           1         0          0   \n",
       "1   18  33.770         1   1725.55230           0         1          1   \n",
       "2   28  33.000         3   4449.46200           0         1          1   \n",
       "3   33  22.705         0  21984.47061           0         1          1   \n",
       "4   32  28.880         0   3866.85520           0         1          1   \n",
       "\n",
       "   smoker_yes  region_northeast  region_northwest  region_southeast  \\\n",
       "0           1                 0                 0                 0   \n",
       "1           0                 0                 0                 1   \n",
       "2           0                 0                 0                 1   \n",
       "3           0                 0                 1                 0   \n",
       "4           0                 0                 1                 0   \n",
       "\n",
       "   region_southwest  \n",
       "0                 1  \n",
       "1                 0  \n",
       "2                 0  \n",
       "3                 0  \n",
       "4                 0  "
      ]
     },
     "execution_count": 23,
     "metadata": {},
     "output_type": "execute_result"
    }
   ],
   "source": [
    "data_encoded.head()"
   ]
  },
  {
   "cell_type": "markdown",
   "id": "52e7b537",
   "metadata": {},
   "source": [
    "Now that our data is encoded, we can split our data into X and y dataframes to be used as inputs into our model."
   ]
  },
  {
   "cell_type": "code",
   "execution_count": 24,
   "id": "44fb0205",
   "metadata": {},
   "outputs": [],
   "source": [
    "y=data_encoded.charges"
   ]
  },
  {
   "cell_type": "code",
   "execution_count": 25,
   "id": "d2b3087c",
   "metadata": {},
   "outputs": [],
   "source": [
    "X=data_encoded.drop(\"charges\", axis=1)"
   ]
  },
  {
   "cell_type": "markdown",
   "id": "52937831",
   "metadata": {},
   "source": [
    "## Model Selection"
   ]
  },
  {
   "cell_type": "markdown",
   "id": "10e09112",
   "metadata": {},
   "source": [
    "Here we will be testing the models.  The two main models we will use are linear regression and random forest regression."
   ]
  },
  {
   "cell_type": "markdown",
   "id": "9155e55f",
   "metadata": {},
   "source": [
    "The function regression_model() takes in our X and y data as input, as well as our model (estimator).  It also takes in a boolean for scale, which allows us to scale our data using standard scaler.  In our case we will be scaling our data because our numerical data like age and bmi  have different units of measurement.  Once this function is ran, it will return our model, X_train and y_train data.   We will evaluate the success of the model using the mean absolute percentage error and r2 score.  Our test size will be 20% of the total data set."
   ]
  },
  {
   "cell_type": "code",
   "execution_count": 26,
   "id": "8bd3ad97",
   "metadata": {},
   "outputs": [],
   "source": [
    "def regression_model(X, y, scale, estimator):    \n",
    "    X_train, X_test, y_train, y_test = train_test_split(X, y, test_size=0.2, random_state=1)\n",
    "    if scale == True:\n",
    "        ss=StandardScaler()\n",
    "        ss.fit(X_train)\n",
    "        X_train=ss.transform(X_train)\n",
    "        X_test=ss.transform(X_test)\n",
    "    model=estimator\n",
    "    model.fit(X_train,y_train)\n",
    "    preds_train=model.predict(X_train)\n",
    "    preds_test=model.predict(X_test)\n",
    "    mean_abs_pct_error_train=round((mean_absolute_percentage_error(y_train,preds_train)),4)\n",
    "    mean_abs_pct_error_test=round((mean_absolute_percentage_error(y_test,preds_test)), 4)\n",
    "    r2_train=round(r2_score(y_train,preds_train),4)\n",
    "    r2_test=round(r2_score(y_test,preds_test),4)\n",
    "    print(f\"The train mean abs % error is {mean_abs_pct_error_train} and r2 is {r2_train}\")\n",
    "    print(f\"The test mean abs % error is {mean_abs_pct_error_test} and r2 is {r2_test}\")\n",
    "    return model, X_train, y_train"
   ]
  },
  {
   "cell_type": "code",
   "execution_count": 27,
   "id": "12094aa7",
   "metadata": {},
   "outputs": [
    {
     "name": "stdout",
     "output_type": "stream",
     "text": [
      "The train mean abs % error is 0.4122 and r2 is 0.7507\n",
      "The test mean abs % error is 0.4066 and r2 is 0.744\n"
     ]
    }
   ],
   "source": [
    "estimator=LinearRegression()\n",
    "model, X_train, y_train = regression_model(X, y, True, estimator)"
   ]
  },
  {
   "cell_type": "markdown",
   "id": "c6e24082",
   "metadata": {},
   "source": [
    "The linear regression model has a decent r2, score and it doesn't seem to be overfitting or underfitting.  However, the mean absolute percentage error is high.  Let's see if we can make some adjustments by trying lasso, ridge, and elastic net regularizations."
   ]
  },
  {
   "cell_type": "code",
   "execution_count": 28,
   "id": "846fde45",
   "metadata": {},
   "outputs": [
    {
     "name": "stdout",
     "output_type": "stream",
     "text": [
      "The train mean abs % error is 0.4135 and r2 is 0.7506\n",
      "The test mean abs % error is 0.4084 and r2 is 0.744\n"
     ]
    }
   ],
   "source": [
    "estimator=Ridge(alpha=10)\n",
    "model, X_train, y_train = regression_model(X, y, True, estimator)"
   ]
  },
  {
   "cell_type": "code",
   "execution_count": 29,
   "id": "c6cfb399",
   "metadata": {},
   "outputs": [
    {
     "name": "stdout",
     "output_type": "stream",
     "text": [
      "The train mean abs % error is 0.4122 and r2 is 0.7507\n",
      "The test mean abs % error is 0.407 and r2 is 0.7437\n"
     ]
    }
   ],
   "source": [
    "estimator=Lasso(alpha=10)\n",
    "model, X_train, y_train = regression_model(X, y, True, estimator)"
   ]
  },
  {
   "cell_type": "code",
   "execution_count": 30,
   "id": "ef07eb2d",
   "metadata": {},
   "outputs": [
    {
     "name": "stdout",
     "output_type": "stream",
     "text": [
      "The train mean abs % error is 1.2168 and r2 is 0.3484\n",
      "The test mean abs % error is 1.154 and r2 is 0.3483\n"
     ]
    }
   ],
   "source": [
    "estimator=ElasticNet(alpha=10)\n",
    "model, X_train, y_train = regression_model(X, y, True, estimator)"
   ]
  },
  {
   "cell_type": "markdown",
   "id": "9b1e3037",
   "metadata": {},
   "source": [
    "I have alpha=10 here, but we can of course try different values of alpha.  However, when I tried to differnt values of alphas, the model was not significantly improving.  Now let's try a random forest regressor."
   ]
  },
  {
   "cell_type": "code",
   "execution_count": 31,
   "id": "d7852657",
   "metadata": {},
   "outputs": [
    {
     "name": "stdout",
     "output_type": "stream",
     "text": [
      "The train mean abs % error is 0.1236 and r2 is 0.9767\n",
      "The test mean abs % error is 0.3551 and r2 is 0.8209\n"
     ]
    }
   ],
   "source": [
    "estimator=RandomForestRegressor()\n",
    "model, X_train, y_train = regression_model(X, y, True, estimator)"
   ]
  },
  {
   "cell_type": "markdown",
   "id": "b04d9f10",
   "metadata": {},
   "source": [
    "The random forest regressor is giving us less error and a higher r2 score, but it looks like our it is overfitting.  Let's try to tune some paramaters to make this better."
   ]
  },
  {
   "cell_type": "markdown",
   "id": "a0a6e354",
   "metadata": {},
   "source": [
    "## Hyperparameter Tuning"
   ]
  },
  {
   "cell_type": "code",
   "execution_count": 32,
   "id": "1f78b904",
   "metadata": {},
   "outputs": [
    {
     "data": {
      "text/plain": [
       "dict_keys(['bootstrap', 'ccp_alpha', 'criterion', 'max_depth', 'max_features', 'max_leaf_nodes', 'max_samples', 'min_impurity_decrease', 'min_samples_leaf', 'min_samples_split', 'min_weight_fraction_leaf', 'n_estimators', 'n_jobs', 'oob_score', 'random_state', 'verbose', 'warm_start'])"
      ]
     },
     "execution_count": 32,
     "metadata": {},
     "output_type": "execute_result"
    }
   ],
   "source": [
    "RandomForestRegressor().get_params().keys()"
   ]
  },
  {
   "cell_type": "markdown",
   "id": "a1775fd0",
   "metadata": {},
   "source": [
    "As we can see, there are plenty of different parameters that are within the RandomForestRegressor() function.  I will be adjusting the max_depth, n_estimators, and bootstrap parameters to see if we can improve our model.  I will be using grid search with 3-fold cross validation to optimize these parameters.  The scoring will be measured by r2."
   ]
  },
  {
   "cell_type": "code",
   "execution_count": 33,
   "id": "fcd7d8c7",
   "metadata": {},
   "outputs": [],
   "source": [
    "param={\"max_depth\":[3,4,5],\"n_estimators\":[10,100,1000],\"bootstrap\":[True, False]}"
   ]
  },
  {
   "cell_type": "code",
   "execution_count": 34,
   "id": "88c4c9c7",
   "metadata": {},
   "outputs": [],
   "source": [
    "gs=GridSearchCV(RandomForestRegressor(),param_grid=param,scoring=\"r2\",cv=3)"
   ]
  },
  {
   "cell_type": "code",
   "execution_count": 35,
   "id": "99dafaec",
   "metadata": {},
   "outputs": [
    {
     "data": {
      "text/html": [
       "<style>#sk-container-id-1 {color: black;background-color: white;}#sk-container-id-1 pre{padding: 0;}#sk-container-id-1 div.sk-toggleable {background-color: white;}#sk-container-id-1 label.sk-toggleable__label {cursor: pointer;display: block;width: 100%;margin-bottom: 0;padding: 0.3em;box-sizing: border-box;text-align: center;}#sk-container-id-1 label.sk-toggleable__label-arrow:before {content: \"▸\";float: left;margin-right: 0.25em;color: #696969;}#sk-container-id-1 label.sk-toggleable__label-arrow:hover:before {color: black;}#sk-container-id-1 div.sk-estimator:hover label.sk-toggleable__label-arrow:before {color: black;}#sk-container-id-1 div.sk-toggleable__content {max-height: 0;max-width: 0;overflow: hidden;text-align: left;background-color: #f0f8ff;}#sk-container-id-1 div.sk-toggleable__content pre {margin: 0.2em;color: black;border-radius: 0.25em;background-color: #f0f8ff;}#sk-container-id-1 input.sk-toggleable__control:checked~div.sk-toggleable__content {max-height: 200px;max-width: 100%;overflow: auto;}#sk-container-id-1 input.sk-toggleable__control:checked~label.sk-toggleable__label-arrow:before {content: \"▾\";}#sk-container-id-1 div.sk-estimator input.sk-toggleable__control:checked~label.sk-toggleable__label {background-color: #d4ebff;}#sk-container-id-1 div.sk-label input.sk-toggleable__control:checked~label.sk-toggleable__label {background-color: #d4ebff;}#sk-container-id-1 input.sk-hidden--visually {border: 0;clip: rect(1px 1px 1px 1px);clip: rect(1px, 1px, 1px, 1px);height: 1px;margin: -1px;overflow: hidden;padding: 0;position: absolute;width: 1px;}#sk-container-id-1 div.sk-estimator {font-family: monospace;background-color: #f0f8ff;border: 1px dotted black;border-radius: 0.25em;box-sizing: border-box;margin-bottom: 0.5em;}#sk-container-id-1 div.sk-estimator:hover {background-color: #d4ebff;}#sk-container-id-1 div.sk-parallel-item::after {content: \"\";width: 100%;border-bottom: 1px solid gray;flex-grow: 1;}#sk-container-id-1 div.sk-label:hover label.sk-toggleable__label {background-color: #d4ebff;}#sk-container-id-1 div.sk-serial::before {content: \"\";position: absolute;border-left: 1px solid gray;box-sizing: border-box;top: 0;bottom: 0;left: 50%;z-index: 0;}#sk-container-id-1 div.sk-serial {display: flex;flex-direction: column;align-items: center;background-color: white;padding-right: 0.2em;padding-left: 0.2em;position: relative;}#sk-container-id-1 div.sk-item {position: relative;z-index: 1;}#sk-container-id-1 div.sk-parallel {display: flex;align-items: stretch;justify-content: center;background-color: white;position: relative;}#sk-container-id-1 div.sk-item::before, #sk-container-id-1 div.sk-parallel-item::before {content: \"\";position: absolute;border-left: 1px solid gray;box-sizing: border-box;top: 0;bottom: 0;left: 50%;z-index: -1;}#sk-container-id-1 div.sk-parallel-item {display: flex;flex-direction: column;z-index: 1;position: relative;background-color: white;}#sk-container-id-1 div.sk-parallel-item:first-child::after {align-self: flex-end;width: 50%;}#sk-container-id-1 div.sk-parallel-item:last-child::after {align-self: flex-start;width: 50%;}#sk-container-id-1 div.sk-parallel-item:only-child::after {width: 0;}#sk-container-id-1 div.sk-dashed-wrapped {border: 1px dashed gray;margin: 0 0.4em 0.5em 0.4em;box-sizing: border-box;padding-bottom: 0.4em;background-color: white;}#sk-container-id-1 div.sk-label label {font-family: monospace;font-weight: bold;display: inline-block;line-height: 1.2em;}#sk-container-id-1 div.sk-label-container {text-align: center;}#sk-container-id-1 div.sk-container {/* jupyter's `normalize.less` sets `[hidden] { display: none; }` but bootstrap.min.css set `[hidden] { display: none !important; }` so we also need the `!important` here to be able to override the default hidden behavior on the sphinx rendered scikit-learn.org. See: https://github.com/scikit-learn/scikit-learn/issues/21755 */display: inline-block !important;position: relative;}#sk-container-id-1 div.sk-text-repr-fallback {display: none;}</style><div id=\"sk-container-id-1\" class=\"sk-top-container\"><div class=\"sk-text-repr-fallback\"><pre>GridSearchCV(cv=3, estimator=RandomForestRegressor(),\n",
       "             param_grid={&#x27;bootstrap&#x27;: [True, False], &#x27;max_depth&#x27;: [3, 4, 5],\n",
       "                         &#x27;n_estimators&#x27;: [10, 100, 1000]},\n",
       "             scoring=&#x27;r2&#x27;)</pre><b>In a Jupyter environment, please rerun this cell to show the HTML representation or trust the notebook. <br />On GitHub, the HTML representation is unable to render, please try loading this page with nbviewer.org.</b></div><div class=\"sk-container\" hidden><div class=\"sk-item sk-dashed-wrapped\"><div class=\"sk-label-container\"><div class=\"sk-label sk-toggleable\"><input class=\"sk-toggleable__control sk-hidden--visually\" id=\"sk-estimator-id-1\" type=\"checkbox\" ><label for=\"sk-estimator-id-1\" class=\"sk-toggleable__label sk-toggleable__label-arrow\">GridSearchCV</label><div class=\"sk-toggleable__content\"><pre>GridSearchCV(cv=3, estimator=RandomForestRegressor(),\n",
       "             param_grid={&#x27;bootstrap&#x27;: [True, False], &#x27;max_depth&#x27;: [3, 4, 5],\n",
       "                         &#x27;n_estimators&#x27;: [10, 100, 1000]},\n",
       "             scoring=&#x27;r2&#x27;)</pre></div></div></div><div class=\"sk-parallel\"><div class=\"sk-parallel-item\"><div class=\"sk-item\"><div class=\"sk-label-container\"><div class=\"sk-label sk-toggleable\"><input class=\"sk-toggleable__control sk-hidden--visually\" id=\"sk-estimator-id-2\" type=\"checkbox\" ><label for=\"sk-estimator-id-2\" class=\"sk-toggleable__label sk-toggleable__label-arrow\">estimator: RandomForestRegressor</label><div class=\"sk-toggleable__content\"><pre>RandomForestRegressor()</pre></div></div></div><div class=\"sk-serial\"><div class=\"sk-item\"><div class=\"sk-estimator sk-toggleable\"><input class=\"sk-toggleable__control sk-hidden--visually\" id=\"sk-estimator-id-3\" type=\"checkbox\" ><label for=\"sk-estimator-id-3\" class=\"sk-toggleable__label sk-toggleable__label-arrow\">RandomForestRegressor</label><div class=\"sk-toggleable__content\"><pre>RandomForestRegressor()</pre></div></div></div></div></div></div></div></div></div></div>"
      ],
      "text/plain": [
       "GridSearchCV(cv=3, estimator=RandomForestRegressor(),\n",
       "             param_grid={'bootstrap': [True, False], 'max_depth': [3, 4, 5],\n",
       "                         'n_estimators': [10, 100, 1000]},\n",
       "             scoring='r2')"
      ]
     },
     "execution_count": 35,
     "metadata": {},
     "output_type": "execute_result"
    }
   ],
   "source": [
    "gs.fit(X_train,np.array(y_train).ravel())"
   ]
  },
  {
   "cell_type": "code",
   "execution_count": 36,
   "id": "72e8efb1",
   "metadata": {},
   "outputs": [
    {
     "data": {
      "text/plain": [
       "0.8536540755498656"
      ]
     },
     "execution_count": 36,
     "metadata": {},
     "output_type": "execute_result"
    }
   ],
   "source": [
    "gs.best_score_"
   ]
  },
  {
   "cell_type": "code",
   "execution_count": 37,
   "id": "d17524de",
   "metadata": {},
   "outputs": [
    {
     "data": {
      "text/plain": [
       "{'bootstrap': True, 'max_depth': 3, 'n_estimators': 1000}"
      ]
     },
     "execution_count": 37,
     "metadata": {},
     "output_type": "execute_result"
    }
   ],
   "source": [
    "gs.best_params_"
   ]
  },
  {
   "cell_type": "markdown",
   "id": "8e41efac",
   "metadata": {},
   "source": [
    "The grid search's best parameters from the ones that I tested are bootstrap=True, max_depth=3, and n_estimators=100.  Let's test them on our model."
   ]
  },
  {
   "cell_type": "code",
   "execution_count": 38,
   "id": "e62913fc",
   "metadata": {},
   "outputs": [
    {
     "name": "stdout",
     "output_type": "stream",
     "text": [
      "The train mean abs % error is 0.3419 and r2 is 0.864\n",
      "The test mean abs % error is 0.3417 and r2 is 0.8517\n"
     ]
    }
   ],
   "source": [
    "estimator=RandomForestRegressor(n_estimators=100,max_depth=3,random_state=1,bootstrap=True)\n",
    "model, X_train, y_train = regression_model(X, y, True, estimator)"
   ]
  },
  {
   "cell_type": "markdown",
   "id": "e3933d76",
   "metadata": {},
   "source": [
    "As we can see, hypertuning our random forest regressor model has led to better model performance, with no overfitting.  It has the best r2 scores and lowest error scores out of all the models that don't overfit.  \n",
    "\n",
    "To get more clarity on our model's performance, we can use cross validation:"
   ]
  },
  {
   "cell_type": "code",
   "execution_count": 39,
   "id": "431bf6a1",
   "metadata": {},
   "outputs": [
    {
     "data": {
      "text/plain": [
       "{'fit_time': array([0.14464879, 0.15362597, 0.15362978]),\n",
       " 'score_time': array([0.00893927, 0.01193261, 0.00993156]),\n",
       " 'estimator': [RandomForestRegressor(max_depth=3, random_state=1),\n",
       "  RandomForestRegressor(max_depth=3, random_state=1),\n",
       "  RandomForestRegressor(max_depth=3, random_state=1)],\n",
       " 'test_score': array([0.86291822, 0.84897758, 0.83865694]),\n",
       " 'train_score': array([0.85938758, 0.86426855, 0.86970492])}"
      ]
     },
     "execution_count": 39,
     "metadata": {},
     "output_type": "execute_result"
    }
   ],
   "source": [
    "cross_validate(estimator,X,y,scoring=\"r2\",cv=3,return_estimator=True,return_train_score=True)"
   ]
  },
  {
   "cell_type": "markdown",
   "id": "99dd810a",
   "metadata": {},
   "source": [
    "As we can see from the corss validation, our model works well on different data samples as well."
   ]
  }
 ],
 "metadata": {
  "kernelspec": {
   "display_name": "Python 3 (ipykernel)",
   "language": "python",
   "name": "python3"
  },
  "language_info": {
   "codemirror_mode": {
    "name": "ipython",
    "version": 3
   },
   "file_extension": ".py",
   "mimetype": "text/x-python",
   "name": "python",
   "nbconvert_exporter": "python",
   "pygments_lexer": "ipython3",
   "version": "3.9.7"
  }
 },
 "nbformat": 4,
 "nbformat_minor": 5
}
